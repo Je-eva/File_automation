{
 "cells": [
  {
   "cell_type": "code",
   "execution_count": 3,
   "id": "0ca6fb77",
   "metadata": {},
   "outputs": [],
   "source": [
    "import os, shutil #shutil-shell utitiles, for performing file related tasks"
   ]
  },
  {
   "cell_type": "code",
   "execution_count": 4,
   "id": "ad114877",
   "metadata": {},
   "outputs": [],
   "source": [
    "path =r\"F:/testing/\""
   ]
  },
  {
   "cell_type": "code",
   "execution_count": 5,
   "id": "716f54d0",
   "metadata": {},
   "outputs": [],
   "source": [
    "file_name=os.listdir(path) #printing all the files"
   ]
  },
  {
   "cell_type": "code",
   "execution_count": 6,
   "id": "46757555",
   "metadata": {},
   "outputs": [
    {
     "name": "stdout",
     "output_type": "stream",
     "text": [
      "F:/testing/image files\n",
      "F:/testing/text files\n",
      "F:/testing/document files\n"
     ]
    }
   ],
   "source": [
    "folder_names= ['image files','text files','document files']\n",
    "for loop in range(0,3):\n",
    "            if not os.path.exists(path + folder_names[loop]):#check if there\n",
    "               print(path + folder_names[loop])\n",
    "               os.makedirs(path + folder_names[loop]) #makedirs- make directory if not there"
   ]
  },
  {
   "cell_type": "code",
   "execution_count": 7,
   "id": "4cd441c4",
   "metadata": {},
   "outputs": [],
   "source": [
    "for file in file_name:\n",
    "    if \".jpg\" in file and not os.path.exists(path + \"image files\" + file):\n",
    "        shutil.move(path + file,path + \"image files/\" + file)\n",
    "    elif \".txt\" in file and not os.path.exists(path + \"text files\" + file):\n",
    "        shutil.move(path + file,path + \"text files/\" + file)\n",
    "    elif \".docx\" in file and not os.path.exists(path + \"document files\" + file):\n",
    "        shutil.move(path + file,path + \"document files/\" + file)\n"
   ]
  },
  {
   "cell_type": "code",
   "execution_count": null,
   "id": "aa7f8843",
   "metadata": {},
   "outputs": [],
   "source": []
  },
  {
   "cell_type": "code",
   "execution_count": null,
   "id": "f91889fe",
   "metadata": {},
   "outputs": [],
   "source": []
  },
  {
   "cell_type": "code",
   "execution_count": null,
   "id": "743d2158",
   "metadata": {},
   "outputs": [],
   "source": []
  }
 ],
 "metadata": {
  "kernelspec": {
   "display_name": "Python 3 (ipykernel)",
   "language": "python",
   "name": "python3"
  },
  "language_info": {
   "codemirror_mode": {
    "name": "ipython",
    "version": 3
   },
   "file_extension": ".py",
   "mimetype": "text/x-python",
   "name": "python",
   "nbconvert_exporter": "python",
   "pygments_lexer": "ipython3",
   "version": "3.11.5"
  }
 },
 "nbformat": 4,
 "nbformat_minor": 5
}
